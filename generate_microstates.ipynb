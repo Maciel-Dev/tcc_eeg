{
 "cells": [
  {
   "metadata": {},
   "cell_type": "markdown",
   "source": "# Starting the Imports",
   "id": "6ac145724af69997"
  },
  {
   "cell_type": "code",
   "id": "initial_id",
   "metadata": {
    "collapsed": true,
    "ExecuteTime": {
     "end_time": "2024-10-01T01:42:18.620208Z",
     "start_time": "2024-10-01T01:42:10.486062Z"
    }
   },
   "source": [
    "# If you are running this notebook on Google Colab, you need to install the following packages\n",
    "!pip install pycrostates\n",
    "!pip install torch"
   ],
   "outputs": [
    {
     "name": "stdout",
     "output_type": "stream",
     "text": [
      "Requirement already satisfied: pycrostates in c:\\users\\joao maciel\\appdata\\local\\programs\\python\\python312\\lib\\site-packages (0.6.1)\n",
      "Requirement already satisfied: decorator in c:\\users\\joao maciel\\appdata\\local\\programs\\python\\python312\\lib\\site-packages (from pycrostates) (5.1.1)\n",
      "Requirement already satisfied: jinja2 in c:\\users\\joao maciel\\appdata\\local\\programs\\python\\python312\\lib\\site-packages (from pycrostates) (3.1.4)\n",
      "Requirement already satisfied: joblib in c:\\users\\joao maciel\\appdata\\local\\programs\\python\\python312\\lib\\site-packages (from pycrostates) (1.4.2)\n",
      "Requirement already satisfied: matplotlib>=3.5 in c:\\users\\joao maciel\\appdata\\local\\programs\\python\\python312\\lib\\site-packages (from pycrostates) (3.9.2)\n",
      "Requirement already satisfied: mne>=1.2 in c:\\users\\joao maciel\\appdata\\local\\programs\\python\\python312\\lib\\site-packages (from pycrostates) (1.8.0)\n",
      "Requirement already satisfied: numpy>=1.21 in c:\\users\\joao maciel\\appdata\\local\\programs\\python\\python312\\lib\\site-packages (from pycrostates) (2.0.1)\n",
      "Requirement already satisfied: packaging in c:\\users\\joao maciel\\appdata\\local\\programs\\python\\python312\\lib\\site-packages (from pycrostates) (24.1)\n",
      "Requirement already satisfied: pooch in c:\\users\\joao maciel\\appdata\\local\\programs\\python\\python312\\lib\\site-packages (from pycrostates) (1.8.2)\n",
      "Requirement already satisfied: psutil in c:\\users\\joao maciel\\appdata\\local\\programs\\python\\python312\\lib\\site-packages (from pycrostates) (6.0.0)\n",
      "Requirement already satisfied: scikit-learn in c:\\users\\joao maciel\\appdata\\local\\programs\\python\\python312\\lib\\site-packages (from pycrostates) (1.5.2)\n",
      "Requirement already satisfied: scipy in c:\\users\\joao maciel\\appdata\\local\\programs\\python\\python312\\lib\\site-packages (from pycrostates) (1.14.1)\n",
      "Requirement already satisfied: contourpy>=1.0.1 in c:\\users\\joao maciel\\appdata\\local\\programs\\python\\python312\\lib\\site-packages (from matplotlib>=3.5->pycrostates) (1.2.1)\n",
      "Requirement already satisfied: cycler>=0.10 in c:\\users\\joao maciel\\appdata\\local\\programs\\python\\python312\\lib\\site-packages (from matplotlib>=3.5->pycrostates) (0.12.1)\n",
      "Requirement already satisfied: fonttools>=4.22.0 in c:\\users\\joao maciel\\appdata\\local\\programs\\python\\python312\\lib\\site-packages (from matplotlib>=3.5->pycrostates) (4.53.1)\n",
      "Requirement already satisfied: kiwisolver>=1.3.1 in c:\\users\\joao maciel\\appdata\\local\\programs\\python\\python312\\lib\\site-packages (from matplotlib>=3.5->pycrostates) (1.4.5)\n",
      "Requirement already satisfied: pillow>=8 in c:\\users\\joao maciel\\appdata\\local\\programs\\python\\python312\\lib\\site-packages (from matplotlib>=3.5->pycrostates) (10.4.0)\n",
      "Requirement already satisfied: pyparsing>=2.3.1 in c:\\users\\joao maciel\\appdata\\local\\programs\\python\\python312\\lib\\site-packages (from matplotlib>=3.5->pycrostates) (3.1.2)\n",
      "Requirement already satisfied: python-dateutil>=2.7 in c:\\users\\joao maciel\\appdata\\local\\programs\\python\\python312\\lib\\site-packages (from matplotlib>=3.5->pycrostates) (2.9.0.post0)\n",
      "Requirement already satisfied: lazy-loader>=0.3 in c:\\users\\joao maciel\\appdata\\local\\programs\\python\\python312\\lib\\site-packages (from mne>=1.2->pycrostates) (0.4)\n",
      "Requirement already satisfied: tqdm in c:\\users\\joao maciel\\appdata\\local\\programs\\python\\python312\\lib\\site-packages (from mne>=1.2->pycrostates) (4.66.5)\n",
      "Requirement already satisfied: platformdirs>=2.5.0 in c:\\users\\joao maciel\\appdata\\local\\programs\\python\\python312\\lib\\site-packages (from pooch->pycrostates) (4.2.2)\n",
      "Requirement already satisfied: requests>=2.19.0 in c:\\users\\joao maciel\\appdata\\local\\programs\\python\\python312\\lib\\site-packages (from pooch->pycrostates) (2.32.3)\n",
      "Requirement already satisfied: MarkupSafe>=2.0 in c:\\users\\joao maciel\\appdata\\local\\programs\\python\\python312\\lib\\site-packages (from jinja2->pycrostates) (2.1.5)\n",
      "Requirement already satisfied: threadpoolctl>=3.1.0 in c:\\users\\joao maciel\\appdata\\local\\programs\\python\\python312\\lib\\site-packages (from scikit-learn->pycrostates) (3.5.0)\n",
      "Requirement already satisfied: six>=1.5 in c:\\users\\joao maciel\\appdata\\local\\programs\\python\\python312\\lib\\site-packages (from python-dateutil>=2.7->matplotlib>=3.5->pycrostates) (1.16.0)\n",
      "Requirement already satisfied: charset-normalizer<4,>=2 in c:\\users\\joao maciel\\appdata\\local\\programs\\python\\python312\\lib\\site-packages (from requests>=2.19.0->pooch->pycrostates) (3.3.2)\n",
      "Requirement already satisfied: idna<4,>=2.5 in c:\\users\\joao maciel\\appdata\\local\\programs\\python\\python312\\lib\\site-packages (from requests>=2.19.0->pooch->pycrostates) (3.7)\n",
      "Requirement already satisfied: urllib3<3,>=1.21.1 in c:\\users\\joao maciel\\appdata\\local\\programs\\python\\python312\\lib\\site-packages (from requests>=2.19.0->pooch->pycrostates) (2.2.2)\n",
      "Requirement already satisfied: certifi>=2017.4.17 in c:\\users\\joao maciel\\appdata\\local\\programs\\python\\python312\\lib\\site-packages (from requests>=2.19.0->pooch->pycrostates) (2024.7.4)\n",
      "Requirement already satisfied: colorama in c:\\users\\joao maciel\\appdata\\local\\programs\\python\\python312\\lib\\site-packages (from tqdm->mne>=1.2->pycrostates) (0.4.6)\n",
      "Requirement already satisfied: torch in c:\\users\\joao maciel\\appdata\\local\\programs\\python\\python312\\lib\\site-packages (2.4.1+cu118)\n",
      "Requirement already satisfied: filelock in c:\\users\\joao maciel\\appdata\\local\\programs\\python\\python312\\lib\\site-packages (from torch) (3.15.4)\n",
      "Requirement already satisfied: typing-extensions>=4.8.0 in c:\\users\\joao maciel\\appdata\\local\\programs\\python\\python312\\lib\\site-packages (from torch) (4.12.2)\n",
      "Requirement already satisfied: sympy in c:\\users\\joao maciel\\appdata\\local\\programs\\python\\python312\\lib\\site-packages (from torch) (1.13.2)\n",
      "Requirement already satisfied: networkx in c:\\users\\joao maciel\\appdata\\local\\programs\\python\\python312\\lib\\site-packages (from torch) (3.3)\n",
      "Requirement already satisfied: jinja2 in c:\\users\\joao maciel\\appdata\\local\\programs\\python\\python312\\lib\\site-packages (from torch) (3.1.4)\n",
      "Requirement already satisfied: fsspec in c:\\users\\joao maciel\\appdata\\local\\programs\\python\\python312\\lib\\site-packages (from torch) (2024.6.1)\n",
      "Requirement already satisfied: setuptools in c:\\users\\joao maciel\\appdata\\local\\programs\\python\\python312\\lib\\site-packages (from torch) (72.2.0)\n",
      "Requirement already satisfied: MarkupSafe>=2.0 in c:\\users\\joao maciel\\appdata\\local\\programs\\python\\python312\\lib\\site-packages (from jinja2->torch) (2.1.5)\n",
      "Requirement already satisfied: mpmath<1.4,>=1.1.0 in c:\\users\\joao maciel\\appdata\\local\\programs\\python\\python312\\lib\\site-packages (from sympy->torch) (1.3.0)\n"
     ]
    }
   ],
   "execution_count": 2
  },
  {
   "metadata": {},
   "cell_type": "code",
   "outputs": [],
   "execution_count": null,
   "source": "",
   "id": "610479b3147722c6"
  }
 ],
 "metadata": {
  "kernelspec": {
   "display_name": "Python 3",
   "language": "python",
   "name": "python3"
  },
  "language_info": {
   "codemirror_mode": {
    "name": "ipython",
    "version": 2
   },
   "file_extension": ".py",
   "mimetype": "text/x-python",
   "name": "python",
   "nbconvert_exporter": "python",
   "pygments_lexer": "ipython2",
   "version": "2.7.6"
  }
 },
 "nbformat": 4,
 "nbformat_minor": 5
}
