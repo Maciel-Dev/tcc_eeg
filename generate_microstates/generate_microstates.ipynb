{
 "cells": [
  {
   "metadata": {},
   "cell_type": "markdown",
   "source": "# Starting the Imports",
   "id": "6ac145724af69997"
  },
  {
   "cell_type": "code",
   "id": "initial_id",
   "metadata": {
    "collapsed": true,
    "ExecuteTime": {
     "end_time": "2024-10-03T02:58:13.085900Z",
     "start_time": "2024-10-03T02:58:13.082198Z"
    }
   },
   "source": [
    "# If you are running this notebook on Google Colab, you need to install the following packages\n",
    "# !pip install pycrostates\n",
    "# !pip install torch\n",
    "# !pip install mne-microstates\n"
   ],
   "outputs": [],
   "execution_count": 2
  },
  {
   "metadata": {},
   "cell_type": "markdown",
   "source": "# Imports",
   "id": "9b38bd3e8533dd6b"
  },
  {
   "metadata": {
    "ExecuteTime": {
     "end_time": "2024-10-03T02:58:16.796496Z",
     "start_time": "2024-10-03T02:58:13.091895Z"
    }
   },
   "cell_type": "code",
   "source": [
    "import mne\n",
    "from pycrostates.cluster import ModKMeans\n",
    "from pycrostates.preprocessing import extract_gfp_peaks\n",
    "from mne.io import read_raw_edf\n",
    "import os\n",
    "import numpy as np\n",
    "import pandas as pd"
   ],
   "id": "7fe1b1009eb29c99",
   "outputs": [],
   "execution_count": 3
  },
  {
   "metadata": {},
   "cell_type": "markdown",
   "source": "# Initiate Microstates Generation",
   "id": "253c1495bbdfe6fa"
  },
  {
   "metadata": {},
   "cell_type": "markdown",
   "source": "#### Returning files into a RAW format",
   "id": "f0e72c031f8a7f82"
  },
  {
   "metadata": {
    "ExecuteTime": {
     "end_time": "2024-10-03T03:23:06.149525Z",
     "start_time": "2024-10-03T03:23:06.142839Z"
    }
   },
   "cell_type": "code",
   "source": [
    "def read_file_return_raw(filename: str):\n",
    "    raw = read_raw_edf(filename, preload=True)\n",
    "    raw.pick('eeg')\n",
    "    raw.set_eeg_reference('average')\n",
    "    ten_twenty_montage = mne.channels.make_standard_montage('standard_1020')\n",
    "    raw.set_montage(ten_twenty_montage)\n",
    "\n",
    "    return raw"
   ],
   "id": "77566c03f26abd93",
   "outputs": [],
   "execution_count": 7
  },
  {
   "metadata": {},
   "cell_type": "markdown",
   "source": "## Getting the GFP",
   "id": "f55c26fad0ab7129"
  },
  {
   "metadata": {
    "ExecuteTime": {
     "end_time": "2024-10-03T03:23:07.729366Z",
     "start_time": "2024-10-03T03:23:07.725366Z"
    }
   },
   "cell_type": "code",
   "source": "",
   "id": "3b057cbd08a88820",
   "outputs": [],
   "execution_count": 7
  },
  {
   "metadata": {
    "ExecuteTime": {
     "end_time": "2024-10-03T03:23:10.014573Z",
     "start_time": "2024-10-03T03:23:10.008069Z"
    }
   },
   "cell_type": "code",
   "source": [
    "def generate_microstates(gfp_data, name: str):\n",
    "    modK = ModKMeans(n_clusters=90, random_state=45)\n",
    "    modK.fit(gfp_data, n_jobs=24, verbose=\"WARNING\")\n",
    "    modK.plot().savefig(rf\"D:\\Codes\\NEWTCC\\generate_microstates\\normalized_data\\sch\\{name.split(\".\")[0]}.png\")"
   ],
   "id": "d1c5d9cd88f3e58f",
   "outputs": [],
   "execution_count": 8
  },
  {
   "metadata": {},
   "cell_type": "markdown",
   "source": "## Start the Microstates Generation",
   "id": "39cd5c813d3df650"
  },
  {
   "metadata": {},
   "cell_type": "markdown",
   "source": "## MAIN",
   "id": "cabd2f4ac2d3d517"
  },
  {
   "metadata": {
    "jupyter": {
     "is_executing": true
    },
    "ExecuteTime": {
     "start_time": "2024-10-03T03:23:15.728558Z"
    }
   },
   "cell_type": "code",
   "source": [
    "def get_gfp(raw):\n",
    "    gfp_data = extract_gfp_peaks(raw, min_peak_distance=3)\n",
    "    return gfp_data\n",
    "\n",
    "def csv_to_raw_array(csv_file_path, sfreq=250):\n",
    "    \"\"\"\n",
    "    Convert a CSV file with EEG channel data into an mne.io.RawArray object.\n",
    "    \n",
    "    Parameters:\n",
    "    csv_file_path (str): Path to the CSV file.\n",
    "    sfreq (float): Sampling frequency of the data. Default is 250 Hz.\n",
    "    \n",
    "    Returns:\n",
    "    raw (mne.io.RawArray): The raw EEG data as an MNE RawArray object.\n",
    "    \"\"\"\n",
    "    # Read the CSV file into a DataFrame\n",
    "    df = pd.read_csv(csv_file_path)\n",
    "\n",
    "    # Split the space-separated values and convert to floats\n",
    "    data = []\n",
    "    for column in df.columns:\n",
    "        # For each column, split the string values into floats\n",
    "        channel_data = [list(map(float, value.split())) for value in df[column]]\n",
    "        # Flatten the list of lists\n",
    "        channel_data_flat = [item for sublist in channel_data for item in sublist]\n",
    "        data.append(channel_data_flat)\n",
    "\n",
    "    # Convert the data to a NumPy array and transpose it\n",
    "    data = np.array(data)\n",
    "    \n",
    "    # Define the channel names (from your original header)\n",
    "    channel_names = ['F7', 'F3', 'F4', 'F8', 'T3', 'C3', 'Cz', 'C4', 'T4', 'T5', \n",
    "                     'P3', 'Pz', 'P4', 'T6', 'O1', 'O2']\n",
    "    \n",
    "    # Define the channel types (assuming EEG for all)\n",
    "    channel_types = ['eeg'] * len(channel_names)\n",
    "    \n",
    "    # Create the info object\n",
    "    info = mne.create_info(ch_names=channel_names, sfreq=sfreq, ch_types=channel_types)\n",
    "    \n",
    "    # Create the RawArray object\n",
    "    raw = mne.io.RawArray(data, info)\n",
    "    raw.pick('eeg')\n",
    "    raw.set_eeg_reference('average')\n",
    "    ten_twenty_montage = mne.channels.make_standard_montage('standard_1020')\n",
    "    raw.set_montage(ten_twenty_montage)\n",
    "    \n",
    "    return raw\n",
    "\n",
    "for filename in os.listdir(r'D:\\Codes\\NEWTCC\\database\\csv\\schz'):\n",
    "    if filename.endswith(\".csv\"):\n",
    "        csv_file_path = os.path.join(r'D:\\Codes\\NEWTCC\\database\\csv\\schz', filename)\n",
    "        raw = csv_to_raw_array(csv_file_path)\n",
    "        gfp_data = get_gfp(raw)\n",
    "        generate_microstates(gfp_data, f\"{filename}\")"
   ],
   "id": "1b766d83e6ced6b5",
   "outputs": [],
   "execution_count": null
  },
  {
   "metadata": {
    "ExecuteTime": {
     "end_time": "2024-10-03T03:19:17.653048Z",
     "start_time": "2024-10-03T03:19:17.648782Z"
    }
   },
   "cell_type": "code",
   "source": "",
   "id": "9e144ca2a65f614a",
   "outputs": [],
   "execution_count": 6
  }
 ],
 "metadata": {
  "kernelspec": {
   "display_name": "Python 3",
   "language": "python",
   "name": "python3"
  },
  "language_info": {
   "codemirror_mode": {
    "name": "ipython",
    "version": 2
   },
   "file_extension": ".py",
   "mimetype": "text/x-python",
   "name": "python",
   "nbconvert_exporter": "python",
   "pygments_lexer": "ipython2",
   "version": "2.7.6"
  }
 },
 "nbformat": 4,
 "nbformat_minor": 5
}
