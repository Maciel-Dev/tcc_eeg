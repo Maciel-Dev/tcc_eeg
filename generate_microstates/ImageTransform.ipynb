{
 "cells": [
  {
   "metadata": {
    "ExecuteTime": {
     "end_time": "2024-10-03T03:20:12.483306Z",
     "start_time": "2024-10-03T03:20:12.473947Z"
    }
   },
   "cell_type": "code",
   "source": [
    "import os\n",
    "\n",
    "def get_all_filenames(directory, read_mode=\"eeg\"):\n",
    "    # Ensure the directory path is correct\n",
    "    directory_path = os.path.abspath(directory)\n",
    "\n",
    "    # List all entries in the directory\n",
    "    filenames = os.listdir(directory_path)\n",
    "\n",
    "    # Optional: Get full paths\n",
    "    if read_mode == \"eeg\":\n",
    "        full_paths = [os.path.join(directory_path, filename) for filename in filenames if\n",
    "                      \"TXT\" not in filename and \"h\" not in filename]\n",
    "\n",
    "    else:\n",
    "        full_paths = [os.path.join(directory_path, filename) for filename in filenames]\n",
    "\n",
    "    return full_paths\n"
   ],
   "id": "d1b2d0de81a86591",
   "outputs": [],
   "execution_count": 1
  },
  {
   "cell_type": "code",
   "id": "initial_id",
   "metadata": {
    "collapsed": true,
    "ExecuteTime": {
     "end_time": "2024-10-03T03:21:28.251991Z",
     "start_time": "2024-10-03T03:20:15.725222Z"
    }
   },
   "source": [
    "from PIL import Image\n",
    "\n",
    "\n",
    "def generate_image(filename: str):\n",
    "\n",
    "    image = Image.open(filename)\n",
    "    img = Image.new('RGBA', (900, 840))\n",
    "\n",
    "    for j in range(10):\n",
    "        for i in range(3):\n",
    "            crop_area = (900 * (i + j), 20, 900 * ((i + j) + 1), 300)\n",
    "            cropped_image = image.crop(crop_area)\n",
    "            img.paste(cropped_image, (0, 280 * i))\n",
    "\n",
    "        img.save(rf\"./{filename.split(\".\")[0]} - {j} RGBA.png\")\n",
    "\n",
    "\n",
    "files = get_all_filenames(r\"D:\\Codes\\NEWTCC\\generate_microstates\\normalized_data\\norm\", \"img\")\n",
    "\n",
    "for name in files:\n",
    "    generate_image(name)\n",
    "    "
   ],
   "outputs": [],
   "execution_count": 2
  },
  {
   "metadata": {},
   "cell_type": "code",
   "outputs": [],
   "execution_count": null,
   "source": "",
   "id": "17e4a2f501de9d1f"
  }
 ],
 "metadata": {
  "kernelspec": {
   "display_name": "Python 3",
   "language": "python",
   "name": "python3"
  },
  "language_info": {
   "codemirror_mode": {
    "name": "ipython",
    "version": 2
   },
   "file_extension": ".py",
   "mimetype": "text/x-python",
   "name": "python",
   "nbconvert_exporter": "python",
   "pygments_lexer": "ipython2",
   "version": "2.7.6"
  }
 },
 "nbformat": 4,
 "nbformat_minor": 5
}
